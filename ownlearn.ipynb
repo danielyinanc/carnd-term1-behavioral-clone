{
 "cells": [
  {
   "cell_type": "code",
   "execution_count": 5,
   "metadata": {
    "scrolled": true
   },
   "outputs": [
    {
     "name": "stdout",
     "output_type": "stream",
     "text": [
      "Train on 4711 samples, validate on 1178 samples\n",
      "Epoch 1/5\n",
      "4711/4711 [==============================] - 7s - loss: 0.0316 - val_loss: 0.0310\n",
      "Epoch 2/5\n",
      "4711/4711 [==============================] - 6s - loss: 0.0237 - val_loss: 0.0290\n",
      "Epoch 3/5\n",
      "4711/4711 [==============================] - 6s - loss: 0.0216 - val_loss: 0.0352\n",
      "Epoch 4/5\n",
      "4711/4711 [==============================] - 6s - loss: 0.0201 - val_loss: 0.0435\n",
      "Epoch 5/5\n",
      "4711/4711 [==============================] - 6s - loss: 0.0173 - val_loss: 0.0466\n"
     ]
    }
   ],
   "source": [
    "import csv\n",
    "import cv2\n",
    "import numpy as np\n",
    "\n",
    "from keras.models import Sequential\n",
    "from keras.layers import Flatten,Dense, Lambda\n",
    "from keras.layers.pooling import MaxPooling2D\n",
    "from keras.layers.convolutional import Convolution2D, Cropping2D\n",
    "\n",
    "lines=[]\n",
    "with open('/home/dyinanc/Data/driving_log.csv') as csvfile:\n",
    "    reader=csv.reader(csvfile)\n",
    "    for line in reader:\n",
    "        lines.append(line)\n",
    "    \n",
    "images=[]\n",
    "measurements=[]\n",
    "for line in lines:\n",
    "    steering_center = float(line[3])\n",
    "\n",
    "    # create adjusted steering measurements for the side camera images\n",
    "    correction = 0.2 # this is a parameter to tune\n",
    "    steering_left = steering_center + correction\n",
    "    steering_right = steering_center - correction\n",
    "\n",
    "    # read in images from center, left and right cameras\n",
    "    directory = \"...\" # fill in the path to your training IMG directory\n",
    "    img_center = cv2.imread(line[0])\n",
    "    img_left = cv2.imread(line[1])\n",
    "    img_right = cv2.imread(line[2])\n",
    "\n",
    "    # add images and angles to data set\n",
    "    images.append(img_center)\n",
    "    images.append(img_left)\n",
    "    images.append(img_right)\n",
    "    measurements.append(steering_center)\n",
    "    measurements.append(steering_left)\n",
    "    measurements.append(steering_right)\n",
    "    \n",
    "\n",
    "X_train=np.array(images)\n",
    "y_train=np.array(measurements)\n",
    "\n",
    "\n",
    "model=Sequential()\n",
    "model.add(Lambda(lambda x:x/255.0 -0.5, input_shape=(160,320,3)))\n",
    "model.add(Cropping2D(cropping=((70,25),(0,0))))\n",
    "model.add(Convolution2D(24,5,5,subsample=(2,2),activation=\"relu\"))\n",
    "model.add(Convolution2D(36,5,5,subsample=(2,2),activation=\"relu\"))\n",
    "model.add(Convolution2D(48,5,5,subsample=(2,2),activation=\"relu\"))\n",
    "model.add(Convolution2D(64,3,3,activation=\"relu\"))\n",
    "model.add(Convolution2D(64,3,3,activation=\"relu\"))\n",
    "model.add(Flatten())\n",
    "model.add(Dense(100))\n",
    "model.add(Dense(50))\n",
    "model.add(Dense(10))\n",
    "model.add(Dense(1))\n",
    "\n",
    "model.compile(loss='mse', optimizer='adam')\n",
    "model.fit(X_train, y_train,validation_split=0.2,shuffle=True, nb_epoch=5)\n",
    "model.save('model.h5')"
   ]
  }
 ],
 "metadata": {
  "kernelspec": {
   "display_name": "Python 3",
   "language": "python",
   "name": "python3"
  },
  "language_info": {
   "codemirror_mode": {
    "name": "ipython",
    "version": 3
   },
   "file_extension": ".py",
   "mimetype": "text/x-python",
   "name": "python",
   "nbconvert_exporter": "python",
   "pygments_lexer": "ipython3",
   "version": "3.6.1"
  },
  "widgets": {
   "state": {},
   "version": "1.1.2"
  }
 },
 "nbformat": 4,
 "nbformat_minor": 2
}
