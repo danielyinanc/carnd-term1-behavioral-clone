{
 "cells": [
  {
   "cell_type": "code",
   "execution_count": 11,
   "metadata": {
    "scrolled": true
   },
   "outputs": [
    {
     "name": "stderr",
     "output_type": "stream",
     "text": [
      "Using TensorFlow backend.\n"
     ]
    },
    {
     "name": "stdout",
     "output_type": "stream",
     "text": [
      "Train on 3560 samples, validate on 890 samples\n",
      "Epoch 1/10\n",
      "3560/3560 [==============================] - 94s - loss: 10281427.4470 - val_loss: 15433.3971\n",
      "Epoch 2/10\n",
      "3560/3560 [==============================] - 7s - loss: 6970.7446 - val_loss: 11925.4213\n",
      "Epoch 3/10\n",
      "3560/3560 [==============================] - 7s - loss: 4396.4237 - val_loss: 3370.7310\n",
      "Epoch 4/10\n",
      "3560/3560 [==============================] - 7s - loss: 3250.2199 - val_loss: 3204.4821\n",
      "Epoch 5/10\n",
      "3560/3560 [==============================] - 7s - loss: 2717.9244 - val_loss: 3228.6935\n",
      "Epoch 6/10\n",
      "3560/3560 [==============================] - 7s - loss: 3037.3067 - val_loss: 4810.9009\n",
      "Epoch 7/10\n",
      "3560/3560 [==============================] - 7s - loss: 2986.7284 - val_loss: 2814.8826\n",
      "Epoch 8/10\n",
      "3560/3560 [==============================] - 7s - loss: 3208.5686 - val_loss: 2176.6133\n",
      "Epoch 9/10\n",
      "3560/3560 [==============================] - 7s - loss: 1845.2424 - val_loss: 2227.8726\n",
      "Epoch 10/10\n",
      "3560/3560 [==============================] - 7s - loss: 2662.1422 - val_loss: 2029.3765\n"
     ]
    }
   ],
   "source": [
    "import csv\n",
    "import cv2\n",
    "import numpy as np\n",
    "\n",
    "lines=[]\n",
    "with open('C:/Users/derya/Desktop/training_data/driving_log.csv') as csvfile:\n",
    "    reader=csv.reader(csvfile)\n",
    "    for line in reader:\n",
    "        lines.append(line)\n",
    "    \n",
    "images=[]\n",
    "measurements=[]\n",
    "for line in lines:\n",
    "    source_path=line[0]\n",
    "    image=cv2.imread(source_path)\n",
    "    images.append(image)\n",
    "    measurement=float(line[3])\n",
    "    measurements.append(measurement)\n",
    "\n",
    "X_train=np.array(images)\n",
    "y_train=np.array(measurements)\n",
    "\n",
    "from keras.models import Sequential\n",
    "from keras.layers import Flatten,Dense\n",
    "\n",
    "model=Sequential()\n",
    "model.add(Flatten(input_shape=(160,320,3)))\n",
    "model.add(Dense(1))\n",
    "model.compile(loss='mse', optimizer='adam')\n",
    "model.fit(X_train, y_train,validation_split=0.2,shuffle=True)\n",
    "model.save('model.h5')"
   ]
  }
 ],
 "metadata": {
  "kernelspec": {
   "display_name": "Python 3",
   "language": "python",
   "name": "python3"
  },
  "language_info": {
   "codemirror_mode": {
    "name": "ipython",
    "version": 3
   },
   "file_extension": ".py",
   "mimetype": "text/x-python",
   "name": "python",
   "nbconvert_exporter": "python",
   "pygments_lexer": "ipython3",
   "version": "3.5.2"
  },
  "widgets": {
   "state": {},
   "version": "1.1.2"
  }
 },
 "nbformat": 4,
 "nbformat_minor": 2
}
